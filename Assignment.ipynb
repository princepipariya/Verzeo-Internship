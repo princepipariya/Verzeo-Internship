{
 "cells": [
  {
   "cell_type": "markdown",
   "id": "c09c394f",
   "metadata": {},
   "source": [
    "#### Class: 3; Assignment: 1\n",
    "\n"
   ]
  },
  {
   "cell_type": "code",
   "execution_count": 2,
   "id": "57c4dd39",
   "metadata": {},
   "outputs": [
    {
     "name": "stdout",
     "output_type": "stream",
     "text": [
      "Enter weight: 16\n",
      "35.27392\n"
     ]
    }
   ],
   "source": [
    "weight_kg = float(input(\"Enter weight: \"))\n",
    "weight_pound = 2.20462 * weight_kg\n",
    "print(weight_pound)"
   ]
  },
  {
   "cell_type": "markdown",
   "id": "c075c4de",
   "metadata": {},
   "source": [
    "#### Class: 3; Assignment: 2\n",
    "\n"
   ]
  }
 ],
 "metadata": {
  "kernelspec": {
   "display_name": "Python 3",
   "language": "python",
   "name": "python3"
  },
  "language_info": {
   "codemirror_mode": {
    "name": "ipython",
    "version": 3
   },
   "file_extension": ".py",
   "mimetype": "text/x-python",
   "name": "python",
   "nbconvert_exporter": "python",
   "pygments_lexer": "ipython3",
   "version": "3.8.5"
  }
 },
 "nbformat": 4,
 "nbformat_minor": 5
}
