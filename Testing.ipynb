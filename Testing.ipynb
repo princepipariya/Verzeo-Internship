{
  "nbformat": 4,
  "nbformat_minor": 0,
  "metadata": {
    "colab": {
      "name": "Testing.ipynb",
      "provenance": [],
      "collapsed_sections": []
    },
    "kernelspec": {
      "name": "python3",
      "display_name": "Python 3"
    },
    "language_info": {
      "name": "python"
    }
  },
  "cells": [
    {
      "cell_type": "code",
      "metadata": {
        "colab": {
          "base_uri": "https://localhost:8080/"
        },
        "id": "oSkUqMPHCTWb",
        "outputId": "ec7247e0-1990-410c-c0a4-e0407fac6094"
      },
      "source": [
        "a = 'Jay swaminarayan'\n",
        "print(a)\n",
        "5>8\n",
        "3<5"
      ],
      "execution_count": 6,
      "outputs": [
        {
          "output_type": "stream",
          "text": [
            "Jay swaminarayan\n"
          ],
          "name": "stdout"
        },
        {
          "output_type": "execute_result",
          "data": {
            "text/plain": [
              "True"
            ]
          },
          "metadata": {
            "tags": []
          },
          "execution_count": 6
        }
      ]
    },
    {
      "cell_type": "code",
      "metadata": {
        "colab": {
          "base_uri": "https://localhost:8080/"
        },
        "id": "U4xF8W5GCWZK",
        "outputId": "ee54ff84-6f74-488e-8e92-20b8bb6fac27"
      },
      "source": [
        "print(a)"
      ],
      "execution_count": null,
      "outputs": [
        {
          "output_type": "stream",
          "text": [
            "Jay swaminarayan\n"
          ],
          "name": "stdout"
        }
      ]
    },
    {
      "cell_type": "code",
      "metadata": {
        "id": "zY0EBYoSCfJh",
        "colab": {
          "base_uri": "https://localhost:8080/"
        },
        "outputId": "b789dc25-69a8-400d-b2d1-2aa852244499"
      },
      "source": [
        "num = int(input('Enter number: '))\n",
        "print(num)\n",
        "type(num)"
      ],
      "execution_count": null,
      "outputs": [
        {
          "output_type": "stream",
          "text": [
            "Enter number: 45\n",
            "45\n"
          ],
          "name": "stdout"
        },
        {
          "output_type": "execute_result",
          "data": {
            "text/plain": [
              "int"
            ]
          },
          "metadata": {
            "tags": []
          },
          "execution_count": 3
        }
      ]
    },
    {
      "cell_type": "code",
      "metadata": {
        "colab": {
          "base_uri": "https://localhost:8080/"
        },
        "id": "nGQ05jhMmhHL",
        "outputId": "14127a9d-fe96-4cab-82c1-523c863c7fb8"
      },
      "source": [
        "print(num)\n",
        "print(a)"
      ],
      "execution_count": null,
      "outputs": [
        {
          "output_type": "stream",
          "text": [
            "45\n",
            "Jay swaminarayan\n"
          ],
          "name": "stdout"
        }
      ]
    },
    {
      "cell_type": "code",
      "metadata": {
        "colab": {
          "base_uri": "https://localhost:8080/"
        },
        "id": "s9013W5VmsZN",
        "outputId": "214e5f50-b9ea-4c86-8805-6e74aea9a39b"
      },
      "source": [
        "num2 = int(input('Enter number 2: '))\n",
        "if num2 > 10 :\n",
        "  print(num2)\n",
        "  print('is Greater then 10.')\n",
        "else :\n",
        "  print(num2)\n",
        "  print('is less then or equal to 10.')"
      ],
      "execution_count": null,
      "outputs": [
        {
          "output_type": "stream",
          "text": [
            "Enter number 2: 32\n",
            "32\n",
            "is Greater then 10.\n"
          ],
          "name": "stdout"
        }
      ]
    }
  ]
}