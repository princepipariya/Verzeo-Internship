{
  "nbformat": 4,
  "nbformat_minor": 0,
  "metadata": {
    "colab": {
      "name": "Testing.ipynb",
      "provenance": [],
      "authorship_tag": "ABX9TyNtl7Sk1BgcQ9r7+wrVnfAP",
      "include_colab_link": true
    },
    "kernelspec": {
      "name": "python3",
      "display_name": "Python 3"
    },
    "language_info": {
      "name": "python"
    }
  },
  "cells": [
    {
      "cell_type": "markdown",
      "metadata": {
        "id": "view-in-github",
        "colab_type": "text"
      },
      "source": [
        "<a href=\"https://colab.research.google.com/github/princepipariya/Verzeo-Internship/blob/main/Testing.ipynb\" target=\"_parent\"><img src=\"https://colab.research.google.com/assets/colab-badge.svg\" alt=\"Open In Colab\"/></a>"
      ]
    },
    {
      "cell_type": "code",
      "metadata": {
        "colab": {
          "base_uri": "https://localhost:8080/"
        },
        "id": "oSkUqMPHCTWb",
        "outputId": "4ce39e83-95f7-474a-fa2a-eafd024f6775"
      },
      "source": [
        "a = 'Jay swaminarayan'\n",
        "print(a)\n",
        "5>8"
      ],
      "execution_count": null,
      "outputs": [
        {
          "output_type": "stream",
          "text": [
            "Jay swaminarayan\n"
          ],
          "name": "stdout"
        },
        {
          "output_type": "execute_result",
          "data": {
            "text/plain": [
              "False"
            ]
          },
          "metadata": {
            "tags": []
          },
          "execution_count": 1
        }
      ]
    },
    {
      "cell_type": "code",
      "metadata": {
        "colab": {
          "base_uri": "https://localhost:8080/"
        },
        "id": "U4xF8W5GCWZK",
        "outputId": "a666ca5f-50ca-4a12-b264-a68327aee027"
      },
      "source": [
        "print(a)"
      ],
      "execution_count": null,
      "outputs": [
        {
          "output_type": "stream",
          "text": [
            "Jay swaminarayan\n"
          ],
          "name": "stdout"
        }
      ]
    },
    {
      "cell_type": "code",
      "metadata": {
        "id": "zY0EBYoSCfJh",
        "colab": {
          "base_uri": "https://localhost:8080/"
        },
        "outputId": "be0adb56-9c26-4700-dee8-6473a7fde573"
      },
      "source": [
        "num = int(input('Enter number: '))\n",
        "print(num)\n",
        "type(num)"
      ],
      "execution_count": null,
      "outputs": [
        {
          "output_type": "stream",
          "text": [
            "Enter number: 15\n",
            "15\n"
          ],
          "name": "stdout"
        },
        {
          "output_type": "execute_result",
          "data": {
            "text/plain": [
              "int"
            ]
          },
          "metadata": {
            "tags": []
          },
          "execution_count": 16
        }
      ]
    },
    {
      "cell_type": "code",
      "metadata": {
        "colab": {
          "base_uri": "https://localhost:8080/"
        },
        "id": "nGQ05jhMmhHL",
        "outputId": "60352f81-3516-4fd1-b9cc-23efb45bd6fe"
      },
      "source": [
        "print(num)\n",
        "print(a)"
      ],
      "execution_count": null,
      "outputs": [
        {
          "output_type": "stream",
          "text": [
            "15\n",
            "Jay swaminarayan\n"
          ],
          "name": "stdout"
        }
      ]
    },
    {
      "cell_type": "code",
      "metadata": {
        "colab": {
          "base_uri": "https://localhost:8080/"
        },
        "id": "s9013W5VmsZN",
        "outputId": "73d393aa-1364-4366-ff1a-188bb36334ac"
      },
      "source": [
        "num2 = int(input('Enter number 2: '))\n",
        "if num2 > 10 :\n",
        "  print(num2)\n",
        "  print('is Greater then 10.')\n",
        "else :\n",
        "  print(num2)\n",
        "  print('is less then or equal to 10.')"
      ],
      "execution_count": null,
      "outputs": [
        {
          "output_type": "stream",
          "text": [
            "Enter number 2: 6\n",
            "6\n",
            "is less then or equal to 10.\n"
          ],
          "name": "stdout"
        }
      ]
    },
    {
      "cell_type": "code",
      "metadata": {
        "id": "KONDHgCknXhJ"
      },
      "source": [
        ""
      ],
      "execution_count": null,
      "outputs": []
    }
  ]
}