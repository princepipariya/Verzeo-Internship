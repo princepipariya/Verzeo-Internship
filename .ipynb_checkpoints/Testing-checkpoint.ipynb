{
 "cells": [
  {
   "cell_type": "markdown",
   "metadata": {},
   "source": [
    "# Testing:"
   ]
  },
  {
   "cell_type": "code",
   "execution_count": 125,
   "metadata": {
    "colab": {
     "base_uri": "https://localhost:8080/"
    },
    "id": "oSkUqMPHCTWb",
    "outputId": "ec7247e0-1990-410c-c0a4-e0407fac6094"
   },
   "outputs": [
    {
     "name": "stdout",
     "output_type": "stream",
     "text": [
      "Jay Swaminarayan! 9644\n",
      "Jay Swaminarayan!!\n",
      "Jay swaminarayan!!!\n",
      "For long sentence in contain double and single quation\n",
      "It's boy\n",
      "It's boy\n"
     ]
    }
   ],
   "source": [
    "print('Jay Swaminarayan! 9644')\n",
    "print(\"Jay Swaminarayan!!\")\n",
    "a = 'Jay swaminarayan!!!'\n",
    "print(a)\n",
    "print('''For long sentence in contain double and single quation''')\n",
    "\n",
    "print('It\\'s boy')\n",
    "print(\"It's boy\")"
   ]
  },
  {
   "cell_type": "code",
   "execution_count": 126,
   "metadata": {},
   "outputs": [
    {
     "data": {
      "text/plain": [
       "'Jay swaminarayan!!!'"
      ]
     },
     "execution_count": 126,
     "metadata": {},
     "output_type": "execute_result"
    }
   ],
   "source": [
    "a"
   ]
  },
  {
   "cell_type": "code",
   "execution_count": 127,
   "metadata": {},
   "outputs": [
    {
     "name": "stdout",
     "output_type": "stream",
     "text": [
      "Jay swaminarayan!!!\n"
     ]
    }
   ],
   "source": [
    "print(a)"
   ]
  },
  {
   "cell_type": "code",
   "execution_count": 128,
   "metadata": {},
   "outputs": [
    {
     "data": {
      "text/plain": [
       "True"
      ]
     },
     "execution_count": 128,
     "metadata": {},
     "output_type": "execute_result"
    }
   ],
   "source": [
    "5<6"
   ]
  },
  {
   "cell_type": "code",
   "execution_count": 129,
   "metadata": {
    "colab": {
     "base_uri": "https://localhost:8080/"
    },
    "id": "zY0EBYoSCfJh",
    "outputId": "b789dc25-69a8-400d-b2d1-2aa852244499"
   },
   "outputs": [
    {
     "name": "stdout",
     "output_type": "stream",
     "text": [
      "Enter number 1: 75\n",
      "75\n"
     ]
    }
   ],
   "source": [
    "num1 = (input('Enter number 1: '))\n",
    "print(num1)"
   ]
  },
  {
   "cell_type": "code",
   "execution_count": 130,
   "metadata": {},
   "outputs": [
    {
     "data": {
      "text/plain": [
       "'Jay swaminarayan!!!'"
      ]
     },
     "execution_count": 130,
     "metadata": {},
     "output_type": "execute_result"
    }
   ],
   "source": [
    "#only Print last variable\n",
    "num1\n",
    "a"
   ]
  },
  {
   "cell_type": "code",
   "execution_count": 131,
   "metadata": {},
   "outputs": [
    {
     "data": {
      "text/plain": [
       "str"
      ]
     },
     "execution_count": 131,
     "metadata": {},
     "output_type": "execute_result"
    }
   ],
   "source": [
    "type(num1)"
   ]
  },
  {
   "cell_type": "code",
   "execution_count": 132,
   "metadata": {},
   "outputs": [
    {
     "name": "stdout",
     "output_type": "stream",
     "text": [
      "Enter number 1: 46\n"
     ]
    }
   ],
   "source": [
    "num1 = int(input('Enter number 1: '))"
   ]
  },
  {
   "cell_type": "code",
   "execution_count": 133,
   "metadata": {},
   "outputs": [
    {
     "data": {
      "text/plain": [
       "int"
      ]
     },
     "execution_count": 133,
     "metadata": {},
     "output_type": "execute_result"
    }
   ],
   "source": [
    "type(num1)"
   ]
  },
  {
   "cell_type": "code",
   "execution_count": 134,
   "metadata": {
    "colab": {
     "base_uri": "https://localhost:8080/"
    },
    "id": "s9013W5VmsZN",
    "outputId": "214e5f50-b9ea-4c86-8805-6e74aea9a39b"
   },
   "outputs": [
    {
     "name": "stdout",
     "output_type": "stream",
     "text": [
      "<class 'int'>\n"
     ]
    }
   ],
   "source": [
    "print(type(num1))"
   ]
  },
  {
   "cell_type": "code",
   "execution_count": 135,
   "metadata": {},
   "outputs": [],
   "source": [
    "f = 12.3"
   ]
  },
  {
   "cell_type": "code",
   "execution_count": 136,
   "metadata": {},
   "outputs": [
    {
     "data": {
      "text/plain": [
       "float"
      ]
     },
     "execution_count": 136,
     "metadata": {},
     "output_type": "execute_result"
    }
   ],
   "source": [
    "type(f)"
   ]
  },
  {
   "cell_type": "code",
   "execution_count": 137,
   "metadata": {},
   "outputs": [
    {
     "name": "stdout",
     "output_type": "stream",
     "text": [
      "Enter number 2: 25\n",
      "25 is Greater then 10.\n",
      "25 is greater than 10.\n",
      "25 is > 10.\n"
     ]
    }
   ],
   "source": [
    "num2 = int(input('Enter number 2: '))\n",
    "if num2 > 10 :\n",
    "    #print(num2)\n",
    "    print(str(num2) + ' is Greater then 10.') # Concatination method\n",
    "    print(f\"{num2} is greater than 10.\") # Formated string mathod; no need to change type\n",
    "    print(num2, \"is > 10.\") # No need of white space\n",
    "else :\n",
    "  #print(num2)\n",
    "  print(str(num2) + ' is less then or equal to 10.')"
   ]
  },
  {
   "cell_type": "code",
   "execution_count": 138,
   "metadata": {},
   "outputs": [
    {
     "name": "stdout",
     "output_type": "stream",
     "text": [
      "True\n",
      "Yes\n",
      "Yes!\n"
     ]
    }
   ],
   "source": [
    "bool1 = True\n",
    "print(bool1)\n",
    "if bool1 == True :\n",
    "    print(\"Yes\")\n",
    "if bool1 :\n",
    "    print(\"Yes!\")"
   ]
  },
  {
   "cell_type": "code",
   "execution_count": 139,
   "metadata": {},
   "outputs": [
    {
     "name": "stdout",
     "output_type": "stream",
     "text": [
      "No\n"
     ]
    }
   ],
   "source": [
    "if bool1 == \"True\" :\n",
    "    print(\"Yes\")\n",
    "else :\n",
    "    print(\"No\")"
   ]
  },
  {
   "cell_type": "markdown",
   "metadata": {},
   "source": [
    "### For Loop:"
   ]
  },
  {
   "cell_type": "code",
   "execution_count": 143,
   "metadata": {},
   "outputs": [
    {
     "name": "stdout",
     "output_type": "stream",
     "text": [
      "Iteration: 0\n",
      "Iteration: 1\n",
      "Iteration: 2\n",
      "Last number: 2\n",
      "\n",
      "Iteration: 1\n",
      "Iteration: 2\n",
      "Iteration: 3\n",
      "Iteration: 4\n",
      "Last number: 4\n"
     ]
    }
   ],
   "source": [
    "# you can write anything num, i, j...\n",
    "for num3 in range(3) : # here 3 will be excluded\n",
    "    print(f\"Iteration: {num3}\")\n",
    "print(f\"Last Iteration: {num3}\\n\")\n",
    "\n",
    "for num3 in range(1,5) : # here 5 will be excluded\n",
    "    print(f\"Iteration: {num3}\")\n",
    "print(f\"Last Iteration: {num3}\")"
   ]
  },
  {
   "cell_type": "code",
   "execution_count": 156,
   "metadata": {},
   "outputs": [
    {
     "name": "stdout",
     "output_type": "stream",
     "text": [
      "1\n",
      "4\n",
      "7\n",
      "10\n",
      "Last number: 10\n"
     ]
    }
   ],
   "source": [
    "# range(stop)\n",
    "# range(start, stop)\n",
    "# range(start, stop, step) step can not zero and must be integer\n",
    "# in c for(i=0; i<11; i=i+3)\n",
    "for num4 in range(1,11,3) : # here 3 is step 1+3=4, 4+3=7...\n",
    "    print(num4)\n",
    "print(f\"Last number: {num4}\")"
   ]
  },
  {
   "cell_type": "markdown",
   "metadata": {},
   "source": [
    "### While Loop:"
   ]
  },
  {
   "cell_type": "code",
   "execution_count": 159,
   "metadata": {},
   "outputs": [
    {
     "name": "stdout",
     "output_type": "stream",
     "text": [
      "0\n",
      "\n",
      "1\n",
      "$\n",
      "2\n",
      "$$\n",
      "3\n",
      "$$$\n",
      "4\n",
      "$$$$\n",
      "5\n",
      "$$$$$\n"
     ]
    }
   ],
   "source": [
    "i = 0\n",
    "while i<=5 :\n",
    "    print(i)\n",
    "    print(i * \"$\")\n",
    "    i += 1"
   ]
  },
  {
   "cell_type": "code",
   "execution_count": null,
   "metadata": {},
   "outputs": [],
   "source": []
  }
 ],
 "metadata": {
  "colab": {
   "collapsed_sections": [],
   "name": "Testing.ipynb",
   "provenance": []
  },
  "kernelspec": {
   "display_name": "Python 3",
   "language": "python",
   "name": "python3"
  },
  "language_info": {
   "codemirror_mode": {
    "name": "ipython",
    "version": 3
   },
   "file_extension": ".py",
   "mimetype": "text/x-python",
   "name": "python",
   "nbconvert_exporter": "python",
   "pygments_lexer": "ipython3",
   "version": "3.8.5"
  }
 },
 "nbformat": 4,
 "nbformat_minor": 1
}
