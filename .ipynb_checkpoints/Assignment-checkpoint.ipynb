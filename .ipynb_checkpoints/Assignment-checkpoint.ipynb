{
 "cells": [
  {
   "cell_type": "code",
   "execution_count": 1,
   "id": "afdf77b3",
   "metadata": {},
   "outputs": [
    {
     "name": "stdout",
     "output_type": "stream",
     "text": [
      "/bin/bash: -c: line 0: syntax error near unexpected token `attachment:Assignment%201.png'\r\n",
      "/bin/bash: -c: line 0: `[Assignment%201.png](attachment:Assignment%201.png)'\r\n"
     ]
    }
   ],
   "source": [
    "### Class: 3; Assignment: 1"
   ]
  },
  {
   "cell_type": "code",
   "execution_count": 2,
   "id": "98b2af38",
   "metadata": {},
   "outputs": [
    {
     "name": "stdout",
     "output_type": "stream",
     "text": [
      "Enter weight: 16\n",
      "35.27392\n"
     ]
    }
   ],
   "source": [
    "weight_kg = float(input(\"Enter weight: \"))\n",
    "weight_pound = 2.20462 * weight_kg\n",
    "print(weight_pound)"
   ]
  },
  {
   "cell_type": "code",
   "execution_count": null,
   "id": "a4fa3bda",
   "metadata": {},
   "outputs": [],
   "source": [
    "### Class: 3; Assignment: 2\n",
    "\n",
    "![Assignment%202.png](attachment:Assignment%202.png)"
   ]
  }
 ],
 "metadata": {
  "kernelspec": {
   "display_name": "Python 3",
   "language": "python",
   "name": "python3"
  },
  "language_info": {
   "codemirror_mode": {
    "name": "ipython",
    "version": 3
   },
   "file_extension": ".py",
   "mimetype": "text/x-python",
   "name": "python",
   "nbconvert_exporter": "python",
   "pygments_lexer": "ipython3",
   "version": "3.8.5"
  }
 },
 "nbformat": 4,
 "nbformat_minor": 5
}
