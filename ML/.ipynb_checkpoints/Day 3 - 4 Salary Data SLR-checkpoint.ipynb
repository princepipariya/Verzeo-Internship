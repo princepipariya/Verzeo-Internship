{
 "cells": [
  {
   "cell_type": "code",
   "execution_count": 1,
   "metadata": {
    "executionInfo": {
     "elapsed": 368,
     "status": "ok",
     "timestamp": 1624028385859,
     "user": {
      "displayName": "IoT ahmed",
      "photoUrl": "",
      "userId": "17443931198187779948"
     },
     "user_tz": -330
    },
    "id": "8Mvc7ctb0LRr"
   },
   "outputs": [],
   "source": [
    "import pandas as pd\n",
    "import matplotlib.pyplot as plt\n",
    "import numpy as np"
   ]
  },
  {
   "cell_type": "code",
   "execution_count": 2,
   "metadata": {
    "executionInfo": {
     "elapsed": 22,
     "status": "ok",
     "timestamp": 1624028386331,
     "user": {
      "displayName": "IoT ahmed",
      "photoUrl": "",
      "userId": "17443931198187779948"
     },
     "user_tz": -330
    },
    "id": "Mi6lWbzj0zVu"
   },
   "outputs": [],
   "source": [
    "df = pd.read_csv(\"/content/Salary_Data.csv\")"
   ]
  },
  {
   "cell_type": "code",
   "execution_count": 3,
   "metadata": {
    "colab": {
     "base_uri": "https://localhost:8080/",
     "height": 948
    },
    "executionInfo": {
     "elapsed": 29,
     "status": "ok",
     "timestamp": 1624028386340,
     "user": {
      "displayName": "IoT ahmed",
      "photoUrl": "",
      "userId": "17443931198187779948"
     },
     "user_tz": -330
    },
    "id": "dJIb8Dz104Ne",
    "outputId": "3eb4bb6c-6a14-4f6c-8a1f-081d73a9df11"
   },
   "outputs": [
    {
     "data": {
      "text/html": [
       "<div>\n",
       "<style scoped>\n",
       "    .dataframe tbody tr th:only-of-type {\n",
       "        vertical-align: middle;\n",
       "    }\n",
       "\n",
       "    .dataframe tbody tr th {\n",
       "        vertical-align: top;\n",
       "    }\n",
       "\n",
       "    .dataframe thead th {\n",
       "        text-align: right;\n",
       "    }\n",
       "</style>\n",
       "<table border=\"1\" class=\"dataframe\">\n",
       "  <thead>\n",
       "    <tr style=\"text-align: right;\">\n",
       "      <th></th>\n",
       "      <th>YearsExperience</th>\n",
       "      <th>Salary</th>\n",
       "    </tr>\n",
       "  </thead>\n",
       "  <tbody>\n",
       "    <tr>\n",
       "      <th>0</th>\n",
       "      <td>1.1</td>\n",
       "      <td>39343.0</td>\n",
       "    </tr>\n",
       "    <tr>\n",
       "      <th>1</th>\n",
       "      <td>1.3</td>\n",
       "      <td>46205.0</td>\n",
       "    </tr>\n",
       "    <tr>\n",
       "      <th>2</th>\n",
       "      <td>1.5</td>\n",
       "      <td>37731.0</td>\n",
       "    </tr>\n",
       "    <tr>\n",
       "      <th>3</th>\n",
       "      <td>2.0</td>\n",
       "      <td>43525.0</td>\n",
       "    </tr>\n",
       "    <tr>\n",
       "      <th>4</th>\n",
       "      <td>2.2</td>\n",
       "      <td>39891.0</td>\n",
       "    </tr>\n",
       "    <tr>\n",
       "      <th>5</th>\n",
       "      <td>2.9</td>\n",
       "      <td>56642.0</td>\n",
       "    </tr>\n",
       "    <tr>\n",
       "      <th>6</th>\n",
       "      <td>3.0</td>\n",
       "      <td>60150.0</td>\n",
       "    </tr>\n",
       "    <tr>\n",
       "      <th>7</th>\n",
       "      <td>3.2</td>\n",
       "      <td>54445.0</td>\n",
       "    </tr>\n",
       "    <tr>\n",
       "      <th>8</th>\n",
       "      <td>3.2</td>\n",
       "      <td>64445.0</td>\n",
       "    </tr>\n",
       "    <tr>\n",
       "      <th>9</th>\n",
       "      <td>3.7</td>\n",
       "      <td>57189.0</td>\n",
       "    </tr>\n",
       "    <tr>\n",
       "      <th>10</th>\n",
       "      <td>3.9</td>\n",
       "      <td>63218.0</td>\n",
       "    </tr>\n",
       "    <tr>\n",
       "      <th>11</th>\n",
       "      <td>4.0</td>\n",
       "      <td>55794.0</td>\n",
       "    </tr>\n",
       "    <tr>\n",
       "      <th>12</th>\n",
       "      <td>4.0</td>\n",
       "      <td>56957.0</td>\n",
       "    </tr>\n",
       "    <tr>\n",
       "      <th>13</th>\n",
       "      <td>4.1</td>\n",
       "      <td>57081.0</td>\n",
       "    </tr>\n",
       "    <tr>\n",
       "      <th>14</th>\n",
       "      <td>4.5</td>\n",
       "      <td>61111.0</td>\n",
       "    </tr>\n",
       "    <tr>\n",
       "      <th>15</th>\n",
       "      <td>4.9</td>\n",
       "      <td>67938.0</td>\n",
       "    </tr>\n",
       "    <tr>\n",
       "      <th>16</th>\n",
       "      <td>5.1</td>\n",
       "      <td>66029.0</td>\n",
       "    </tr>\n",
       "    <tr>\n",
       "      <th>17</th>\n",
       "      <td>5.3</td>\n",
       "      <td>83088.0</td>\n",
       "    </tr>\n",
       "    <tr>\n",
       "      <th>18</th>\n",
       "      <td>5.9</td>\n",
       "      <td>81363.0</td>\n",
       "    </tr>\n",
       "    <tr>\n",
       "      <th>19</th>\n",
       "      <td>6.0</td>\n",
       "      <td>93940.0</td>\n",
       "    </tr>\n",
       "    <tr>\n",
       "      <th>20</th>\n",
       "      <td>6.8</td>\n",
       "      <td>91738.0</td>\n",
       "    </tr>\n",
       "    <tr>\n",
       "      <th>21</th>\n",
       "      <td>7.1</td>\n",
       "      <td>98273.0</td>\n",
       "    </tr>\n",
       "    <tr>\n",
       "      <th>22</th>\n",
       "      <td>7.9</td>\n",
       "      <td>101302.0</td>\n",
       "    </tr>\n",
       "    <tr>\n",
       "      <th>23</th>\n",
       "      <td>8.2</td>\n",
       "      <td>113812.0</td>\n",
       "    </tr>\n",
       "    <tr>\n",
       "      <th>24</th>\n",
       "      <td>8.7</td>\n",
       "      <td>109431.0</td>\n",
       "    </tr>\n",
       "    <tr>\n",
       "      <th>25</th>\n",
       "      <td>9.0</td>\n",
       "      <td>105582.0</td>\n",
       "    </tr>\n",
       "    <tr>\n",
       "      <th>26</th>\n",
       "      <td>9.5</td>\n",
       "      <td>116969.0</td>\n",
       "    </tr>\n",
       "    <tr>\n",
       "      <th>27</th>\n",
       "      <td>9.6</td>\n",
       "      <td>112635.0</td>\n",
       "    </tr>\n",
       "    <tr>\n",
       "      <th>28</th>\n",
       "      <td>10.3</td>\n",
       "      <td>122391.0</td>\n",
       "    </tr>\n",
       "    <tr>\n",
       "      <th>29</th>\n",
       "      <td>10.5</td>\n",
       "      <td>121872.0</td>\n",
       "    </tr>\n",
       "  </tbody>\n",
       "</table>\n",
       "</div>"
      ],
      "text/plain": [
       "    YearsExperience    Salary\n",
       "0               1.1   39343.0\n",
       "1               1.3   46205.0\n",
       "2               1.5   37731.0\n",
       "3               2.0   43525.0\n",
       "4               2.2   39891.0\n",
       "5               2.9   56642.0\n",
       "6               3.0   60150.0\n",
       "7               3.2   54445.0\n",
       "8               3.2   64445.0\n",
       "9               3.7   57189.0\n",
       "10              3.9   63218.0\n",
       "11              4.0   55794.0\n",
       "12              4.0   56957.0\n",
       "13              4.1   57081.0\n",
       "14              4.5   61111.0\n",
       "15              4.9   67938.0\n",
       "16              5.1   66029.0\n",
       "17              5.3   83088.0\n",
       "18              5.9   81363.0\n",
       "19              6.0   93940.0\n",
       "20              6.8   91738.0\n",
       "21              7.1   98273.0\n",
       "22              7.9  101302.0\n",
       "23              8.2  113812.0\n",
       "24              8.7  109431.0\n",
       "25              9.0  105582.0\n",
       "26              9.5  116969.0\n",
       "27              9.6  112635.0\n",
       "28             10.3  122391.0\n",
       "29             10.5  121872.0"
      ]
     },
     "execution_count": 3,
     "metadata": {
      "tags": []
     },
     "output_type": "execute_result"
    }
   ],
   "source": [
    "df"
   ]
  },
  {
   "cell_type": "code",
   "execution_count": 4,
   "metadata": {
    "executionInfo": {
     "elapsed": 22,
     "status": "ok",
     "timestamp": 1624028386340,
     "user": {
      "displayName": "IoT ahmed",
      "photoUrl": "",
      "userId": "17443931198187779948"
     },
     "user_tz": -330
    },
    "id": "8GwQ2N1K04rL"
   },
   "outputs": [],
   "source": [
    "x = df.iloc[:,0].values.reshape(-1,1)"
   ]
  },
  {
   "cell_type": "code",
   "execution_count": 5,
   "metadata": {
    "colab": {
     "base_uri": "https://localhost:8080/"
    },
    "executionInfo": {
     "elapsed": 22,
     "status": "ok",
     "timestamp": 1624028386341,
     "user": {
      "displayName": "IoT ahmed",
      "photoUrl": "",
      "userId": "17443931198187779948"
     },
     "user_tz": -330
    },
    "id": "W9nW9w5K2t8R",
    "outputId": "acd29d26-7e80-497c-956e-0e1d26827af3"
   },
   "outputs": [
    {
     "data": {
      "text/plain": [
       "(30, 1)"
      ]
     },
     "execution_count": 5,
     "metadata": {
      "tags": []
     },
     "output_type": "execute_result"
    }
   ],
   "source": [
    "x.shape"
   ]
  },
  {
   "cell_type": "code",
   "execution_count": 6,
   "metadata": {
    "executionInfo": {
     "elapsed": 18,
     "status": "ok",
     "timestamp": 1624028386341,
     "user": {
      "displayName": "IoT ahmed",
      "photoUrl": "",
      "userId": "17443931198187779948"
     },
     "user_tz": -330
    },
    "id": "UoD8pbS72wck"
   },
   "outputs": [],
   "source": [
    "y = df.iloc[:,1].values"
   ]
  },
  {
   "cell_type": "code",
   "execution_count": 7,
   "metadata": {
    "colab": {
     "base_uri": "https://localhost:8080/"
    },
    "executionInfo": {
     "elapsed": 492,
     "status": "ok",
     "timestamp": 1624028386815,
     "user": {
      "displayName": "IoT ahmed",
      "photoUrl": "",
      "userId": "17443931198187779948"
     },
     "user_tz": -330
    },
    "id": "PVRsfN1M3BaS",
    "outputId": "70625eaa-4361-4f95-a935-0b8dc77c4f65"
   },
   "outputs": [
    {
     "data": {
      "text/plain": [
       "array([ 39343.,  46205.,  37731.,  43525.,  39891.,  56642.,  60150.,\n",
       "        54445.,  64445.,  57189.,  63218.,  55794.,  56957.,  57081.,\n",
       "        61111.,  67938.,  66029.,  83088.,  81363.,  93940.,  91738.,\n",
       "        98273., 101302., 113812., 109431., 105582., 116969., 112635.,\n",
       "       122391., 121872.])"
      ]
     },
     "execution_count": 7,
     "metadata": {
      "tags": []
     },
     "output_type": "execute_result"
    }
   ],
   "source": [
    "y"
   ]
  },
  {
   "cell_type": "code",
   "execution_count": 8,
   "metadata": {
    "executionInfo": {
     "elapsed": 803,
     "status": "ok",
     "timestamp": 1624028387614,
     "user": {
      "displayName": "IoT ahmed",
      "photoUrl": "",
      "userId": "17443931198187779948"
     },
     "user_tz": -330
    },
    "id": "4-ak0BYy3CQf"
   },
   "outputs": [],
   "source": [
    "from sklearn.model_selection import train_test_split"
   ]
  },
  {
   "cell_type": "code",
   "execution_count": 9,
   "metadata": {
    "executionInfo": {
     "elapsed": 35,
     "status": "ok",
     "timestamp": 1624028387614,
     "user": {
      "displayName": "IoT ahmed",
      "photoUrl": "",
      "userId": "17443931198187779948"
     },
     "user_tz": -330
    },
    "id": "0wQtoE_F8IEg"
   },
   "outputs": [],
   "source": [
    "train_x, test_x, train_y, test_y = train_test_split(x,y, test_size = 0.2, random_state = 0)"
   ]
  },
  {
   "cell_type": "code",
   "execution_count": 10,
   "metadata": {
    "colab": {
     "base_uri": "https://localhost:8080/"
    },
    "executionInfo": {
     "elapsed": 34,
     "status": "ok",
     "timestamp": 1624028387615,
     "user": {
      "displayName": "IoT ahmed",
      "photoUrl": "",
      "userId": "17443931198187779948"
     },
     "user_tz": -330
    },
    "id": "NoBR4lHm9D6u",
    "outputId": "91270f0c-93a9-489c-8103-a9053a29a789"
   },
   "outputs": [
    {
     "data": {
      "text/plain": [
       "array([[ 1.5],\n",
       "       [10.3],\n",
       "       [ 4.1],\n",
       "       [ 3.9],\n",
       "       [ 9.5],\n",
       "       [ 8.7]])"
      ]
     },
     "execution_count": 10,
     "metadata": {
      "tags": []
     },
     "output_type": "execute_result"
    }
   ],
   "source": [
    "test_x"
   ]
  },
  {
   "cell_type": "code",
   "execution_count": 11,
   "metadata": {
    "colab": {
     "base_uri": "https://localhost:8080/"
    },
    "executionInfo": {
     "elapsed": 32,
     "status": "ok",
     "timestamp": 1624028387616,
     "user": {
      "displayName": "IoT ahmed",
      "photoUrl": "",
      "userId": "17443931198187779948"
     },
     "user_tz": -330
    },
    "id": "eAhYaLPI9InG",
    "outputId": "1ac518ca-11b7-4af5-fa0c-f43d39c7d7e0"
   },
   "outputs": [
    {
     "data": {
      "text/plain": [
       "array([ 37731., 122391.,  57081.,  63218., 116969., 109431.])"
      ]
     },
     "execution_count": 11,
     "metadata": {
      "tags": []
     },
     "output_type": "execute_result"
    }
   ],
   "source": [
    "test_y"
   ]
  },
  {
   "cell_type": "code",
   "execution_count": 12,
   "metadata": {
    "executionInfo": {
     "elapsed": 26,
     "status": "ok",
     "timestamp": 1624028387618,
     "user": {
      "displayName": "IoT ahmed",
      "photoUrl": "",
      "userId": "17443931198187779948"
     },
     "user_tz": -330
    },
    "id": "J78mTGjc9Kwn"
   },
   "outputs": [],
   "source": [
    "from sklearn.linear_model import LinearRegression"
   ]
  },
  {
   "cell_type": "code",
   "execution_count": 13,
   "metadata": {
    "executionInfo": {
     "elapsed": 25,
     "status": "ok",
     "timestamp": 1624028387619,
     "user": {
      "displayName": "IoT ahmed",
      "photoUrl": "",
      "userId": "17443931198187779948"
     },
     "user_tz": -330
    },
    "id": "u8T1lA6A9ixY"
   },
   "outputs": [],
   "source": [
    "Lin = LinearRegression()"
   ]
  },
  {
   "cell_type": "code",
   "execution_count": 14,
   "metadata": {
    "colab": {
     "base_uri": "https://localhost:8080/"
    },
    "executionInfo": {
     "elapsed": 26,
     "status": "ok",
     "timestamp": 1624028387622,
     "user": {
      "displayName": "IoT ahmed",
      "photoUrl": "",
      "userId": "17443931198187779948"
     },
     "user_tz": -330
    },
    "id": "-Nn8TJZ79lQz",
    "outputId": "ca234deb-d945-4dc9-d9dc-d104d83d2d66"
   },
   "outputs": [
    {
     "data": {
      "text/plain": [
       "LinearRegression(copy_X=True, fit_intercept=True, n_jobs=None, normalize=False)"
      ]
     },
     "execution_count": 14,
     "metadata": {
      "tags": []
     },
     "output_type": "execute_result"
    }
   ],
   "source": [
    "Lin.fit(train_x, train_y)"
   ]
  },
  {
   "cell_type": "code",
   "execution_count": 15,
   "metadata": {
    "executionInfo": {
     "elapsed": 21,
     "status": "ok",
     "timestamp": 1624028387623,
     "user": {
      "displayName": "IoT ahmed",
      "photoUrl": "",
      "userId": "17443931198187779948"
     },
     "user_tz": -330
    },
    "id": "dKxLndL495Ao"
   },
   "outputs": [],
   "source": [
    "pred_y = Lin.predict(test_x)"
   ]
  },
  {
   "cell_type": "markdown",
   "metadata": {
    "id": "jYuaw5pvncwX"
   },
   "source": [
    "Predicted values from our model"
   ]
  },
  {
   "cell_type": "code",
   "execution_count": 16,
   "metadata": {
    "colab": {
     "base_uri": "https://localhost:8080/"
    },
    "executionInfo": {
     "elapsed": 21,
     "status": "ok",
     "timestamp": 1624028387624,
     "user": {
      "displayName": "IoT ahmed",
      "photoUrl": "",
      "userId": "17443931198187779948"
     },
     "user_tz": -330
    },
    "id": "DACNz7jD-EJO",
    "outputId": "f49b1a81-07bf-4e9a-c51c-4fa6b88356fd"
   },
   "outputs": [
    {
     "data": {
      "text/plain": [
       "array([ 40748.96184072, 122699.62295594,  64961.65717022,  63099.14214487,\n",
       "       115249.56285456, 107799.50275317])"
      ]
     },
     "execution_count": 16,
     "metadata": {
      "tags": []
     },
     "output_type": "execute_result"
    }
   ],
   "source": [
    "pred_y"
   ]
  },
  {
   "cell_type": "markdown",
   "metadata": {
    "id": "kvUfomdKnfQa"
   },
   "source": [
    "Actual Values from data set"
   ]
  },
  {
   "cell_type": "code",
   "execution_count": 19,
   "metadata": {
    "colab": {
     "base_uri": "https://localhost:8080/"
    },
    "executionInfo": {
     "elapsed": 349,
     "status": "ok",
     "timestamp": 1624028499670,
     "user": {
      "displayName": "IoT ahmed",
      "photoUrl": "",
      "userId": "17443931198187779948"
     },
     "user_tz": -330
    },
    "id": "2u_XRqfFo_tx",
    "outputId": "0d11db81-0793-4262-a994-59414b253f69"
   },
   "outputs": [
    {
     "data": {
      "text/plain": [
       "array([[ 1.5],\n",
       "       [10.3],\n",
       "       [ 4.1],\n",
       "       [ 3.9],\n",
       "       [ 9.5],\n",
       "       [ 8.7]])"
      ]
     },
     "execution_count": 19,
     "metadata": {
      "tags": []
     },
     "output_type": "execute_result"
    }
   ],
   "source": [
    "test_x"
   ]
  },
  {
   "cell_type": "code",
   "execution_count": 17,
   "metadata": {
    "colab": {
     "base_uri": "https://localhost:8080/"
    },
    "executionInfo": {
     "elapsed": 19,
     "status": "ok",
     "timestamp": 1624028387625,
     "user": {
      "displayName": "IoT ahmed",
      "photoUrl": "",
      "userId": "17443931198187779948"
     },
     "user_tz": -330
    },
    "id": "dqmMY-yO-FdU",
    "outputId": "8c3dde19-a23a-4e5e-95c4-ddbff16757a5"
   },
   "outputs": [
    {
     "data": {
      "text/plain": [
       "array([ 37731., 122391.,  57081.,  63218., 116969., 109431.])"
      ]
     },
     "execution_count": 17,
     "metadata": {
      "tags": []
     },
     "output_type": "execute_result"
    }
   ],
   "source": [
    "test_y"
   ]
  },
  {
   "cell_type": "markdown",
   "metadata": {
    "id": "XnAmumESnyrD"
   },
   "source": [
    "Error Evaluation:\n",
    "1. MAE - Mean Absolute error\n",
    "2. MSE - Mean Squared error"
   ]
  },
  {
   "cell_type": "markdown",
   "metadata": {
    "id": "3TOi6XctoFDz"
   },
   "source": [
    "### MAE"
   ]
  },
  {
   "cell_type": "code",
   "execution_count": 20,
   "metadata": {
    "colab": {
     "base_uri": "https://localhost:8080/"
    },
    "executionInfo": {
     "elapsed": 374,
     "status": "ok",
     "timestamp": 1624028771809,
     "user": {
      "displayName": "IoT ahmed",
      "photoUrl": "",
      "userId": "17443931198187779948"
     },
     "user_tz": -330
    },
    "id": "TLqBsdQ0-Myi",
    "outputId": "9051f2fb-e789-41c3-d163-a3e4b2a36548"
   },
   "outputs": [
    {
     "data": {
      "text/plain": [
       "array([ 3017.96184072,   308.62295594,  7880.65717022,  -118.85785513,\n",
       "       -1719.43714544, -1631.49724683])"
      ]
     },
     "execution_count": 20,
     "metadata": {
      "tags": []
     },
     "output_type": "execute_result"
    }
   ],
   "source": [
    "pred_y - test_y"
   ]
  },
  {
   "cell_type": "code",
   "execution_count": 21,
   "metadata": {
    "colab": {
     "base_uri": "https://localhost:8080/"
    },
    "executionInfo": {
     "elapsed": 9,
     "status": "ok",
     "timestamp": 1624028923208,
     "user": {
      "displayName": "IoT ahmed",
      "photoUrl": "",
      "userId": "17443931198187779948"
     },
     "user_tz": -330
    },
    "id": "XtG_uzq6qHIE",
    "outputId": "acc8d826-dc21-4abe-dbdd-04319c171a6a"
   },
   "outputs": [
    {
     "data": {
      "text/plain": [
       "array([3017.96184072,  308.62295594, 7880.65717022,  118.85785513,\n",
       "       1719.43714544, 1631.49724683])"
      ]
     },
     "execution_count": 21,
     "metadata": {
      "tags": []
     },
     "output_type": "execute_result"
    }
   ],
   "source": [
    "np.abs(pred_y - test_y)"
   ]
  },
  {
   "cell_type": "code",
   "execution_count": 22,
   "metadata": {
    "colab": {
     "base_uri": "https://localhost:8080/"
    },
    "executionInfo": {
     "elapsed": 343,
     "status": "ok",
     "timestamp": 1624028971172,
     "user": {
      "displayName": "IoT ahmed",
      "photoUrl": "",
      "userId": "17443931198187779948"
     },
     "user_tz": -330
    },
    "id": "CiJRayGRqsBB",
    "outputId": "64e35e75-3ae1-4026-87ce-0c164f73c7fa"
   },
   "outputs": [
    {
     "data": {
      "text/plain": [
       "2446.1723690465055"
      ]
     },
     "execution_count": 22,
     "metadata": {
      "tags": []
     },
     "output_type": "execute_result"
    }
   ],
   "source": [
    "np.abs(pred_y - test_y).mean()"
   ]
  },
  {
   "cell_type": "code",
   "execution_count": 23,
   "metadata": {
    "colab": {
     "base_uri": "https://localhost:8080/"
    },
    "executionInfo": {
     "elapsed": 336,
     "status": "ok",
     "timestamp": 1624029021629,
     "user": {
      "displayName": "IoT ahmed",
      "photoUrl": "",
      "userId": "17443931198187779948"
     },
     "user_tz": -330
    },
    "id": "j5Jj4z7Sq7vw",
    "outputId": "2d94ae26-6047-488c-c6ce-2a4725985472"
   },
   "outputs": [
    {
     "data": {
      "text/plain": [
       "array([57511.59706883])"
      ]
     },
     "execution_count": 23,
     "metadata": {
      "tags": []
     },
     "output_type": "execute_result"
    }
   ],
   "source": [
    "Lin.predict([[3.3]])"
   ]
  },
  {
   "cell_type": "markdown",
   "metadata": {
    "id": "YvQbacePrpUx"
   },
   "source": [
    "### MSE"
   ]
  },
  {
   "cell_type": "code",
   "execution_count": 24,
   "metadata": {
    "colab": {
     "base_uri": "https://localhost:8080/"
    },
    "executionInfo": {
     "elapsed": 359,
     "status": "ok",
     "timestamp": 1624029213850,
     "user": {
      "displayName": "IoT ahmed",
      "photoUrl": "",
      "userId": "17443931198187779948"
     },
     "user_tz": -330
    },
    "id": "UZKFWFcPq3x-",
    "outputId": "3f7b5d97-4908-48a6-e038-aac5d7a1341f"
   },
   "outputs": [
    {
     "data": {
      "text/plain": [
       "array([9.10809367e+06, 9.52481289e+04, 6.21047574e+07, 1.41271897e+04,\n",
       "       2.95646410e+06, 2.66178327e+06])"
      ]
     },
     "execution_count": 24,
     "metadata": {
      "tags": []
     },
     "output_type": "execute_result"
    }
   ],
   "source": [
    "(pred_y - test_y)**2"
   ]
  },
  {
   "cell_type": "code",
   "execution_count": 25,
   "metadata": {
    "colab": {
     "base_uri": "https://localhost:8080/"
    },
    "executionInfo": {
     "elapsed": 340,
     "status": "ok",
     "timestamp": 1624029240853,
     "user": {
      "displayName": "IoT ahmed",
      "photoUrl": "",
      "userId": "17443931198187779948"
     },
     "user_tz": -330
    },
    "id": "2xuP708yrzDg",
    "outputId": "92d994a2-923b-47ca-d8df-45968a9f7b90"
   },
   "outputs": [
    {
     "data": {
      "text/plain": [
       "12823412.298126549"
      ]
     },
     "execution_count": 25,
     "metadata": {
      "tags": []
     },
     "output_type": "execute_result"
    }
   ],
   "source": [
    "((pred_y - test_y)**2).mean()"
   ]
  },
  {
   "cell_type": "markdown",
   "metadata": {
    "id": "tPl410SNsEp5"
   },
   "source": [
    "### Metrics from Library"
   ]
  },
  {
   "cell_type": "code",
   "execution_count": 26,
   "metadata": {
    "executionInfo": {
     "elapsed": 354,
     "status": "ok",
     "timestamp": 1624029340739,
     "user": {
      "displayName": "IoT ahmed",
      "photoUrl": "",
      "userId": "17443931198187779948"
     },
     "user_tz": -330
    },
    "id": "naTegu9Zr5n4"
   },
   "outputs": [],
   "source": [
    "from sklearn import metrics"
   ]
  },
  {
   "cell_type": "code",
   "execution_count": 27,
   "metadata": {
    "colab": {
     "base_uri": "https://localhost:8080/"
    },
    "executionInfo": {
     "elapsed": 352,
     "status": "ok",
     "timestamp": 1624029469864,
     "user": {
      "displayName": "IoT ahmed",
      "photoUrl": "",
      "userId": "17443931198187779948"
     },
     "user_tz": -330
    },
    "id": "QFgYZw4KsSAG",
    "outputId": "b382c94f-2e7f-4550-89fc-9f4133c11871"
   },
   "outputs": [
    {
     "data": {
      "text/plain": [
       "2446.1723690465055"
      ]
     },
     "execution_count": 27,
     "metadata": {
      "tags": []
     },
     "output_type": "execute_result"
    }
   ],
   "source": [
    "metrics.mean_absolute_error(test_y, pred_y)"
   ]
  },
  {
   "cell_type": "code",
   "execution_count": 28,
   "metadata": {
    "colab": {
     "base_uri": "https://localhost:8080/"
    },
    "executionInfo": {
     "elapsed": 431,
     "status": "ok",
     "timestamp": 1624029522910,
     "user": {
      "displayName": "IoT ahmed",
      "photoUrl": "",
      "userId": "17443931198187779948"
     },
     "user_tz": -330
    },
    "id": "8Q9fxXJ6sxj6",
    "outputId": "8fd1f814-cbca-4c75-8b23-e4839ca84e37"
   },
   "outputs": [
    {
     "data": {
      "text/plain": [
       "12823412.298126549"
      ]
     },
     "execution_count": 28,
     "metadata": {
      "tags": []
     },
     "output_type": "execute_result"
    }
   ],
   "source": [
    "metrics.mean_squared_error(test_y, pred_y)"
   ]
  },
  {
   "cell_type": "code",
   "execution_count": null,
   "metadata": {
    "id": "rIalVxOss-fo"
   },
   "outputs": [],
   "source": []
  }
 ],
 "metadata": {
  "colab": {
   "authorship_tag": "ABX9TyM3PqgBSN+08C92O6LI58gr",
   "name": "Salary Data LR.ipynb",
   "provenance": []
  },
  "kernelspec": {
   "display_name": "Python 3",
   "language": "python",
   "name": "python3"
  },
  "language_info": {
   "codemirror_mode": {
    "name": "ipython",
    "version": 3
   },
   "file_extension": ".py",
   "mimetype": "text/x-python",
   "name": "python",
   "nbconvert_exporter": "python",
   "pygments_lexer": "ipython3",
   "version": "3.8.3"
  }
 },
 "nbformat": 4,
 "nbformat_minor": 1
}
