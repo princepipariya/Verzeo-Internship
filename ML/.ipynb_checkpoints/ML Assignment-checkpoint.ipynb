{
 "cells": [
  {
   "cell_type": "markdown",
   "id": "2a2c8f1d",
   "metadata": {},
   "source": [
    "### HW Data"
   ]
  },
  {
   "cell_type": "code",
   "execution_count": null,
   "id": "4cbee8a4",
   "metadata": {},
   "outputs": [],
   "source": [
    "# Answer: b0 = 92.8 ; b1 = 43.9 "
   ]
  },
  {
   "cell_type": "code",
   "execution_count": null,
   "id": "b3ca156d",
   "metadata": {},
   "outputs": [],
   "source": []
  }
 ],
 "metadata": {
  "kernelspec": {
   "display_name": "Python 3",
   "language": "python",
   "name": "python3"
  },
  "language_info": {
   "codemirror_mode": {
    "name": "ipython",
    "version": 3
   },
   "file_extension": ".py",
   "mimetype": "text/x-python",
   "name": "python",
   "nbconvert_exporter": "python",
   "pygments_lexer": "ipython3",
   "version": "3.8.3"
  }
 },
 "nbformat": 4,
 "nbformat_minor": 5
}
