{
 "cells": [
  {
   "cell_type": "markdown",
   "id": "c2479ba7",
   "metadata": {},
   "source": [
    "### HW Data"
   ]
  },
  {
   "cell_type": "code",
   "execution_count": null,
   "id": "78831163",
   "metadata": {},
   "outputs": [],
   "source": [
    "# Answer: b0 = 92.8 ; b1 = 43.9 "
   ]
  },
  {
   "cell_type": "markdown",
   "id": "fbd71329",
   "metadata": {},
   "source": [
    "### Advertising Data: do using train and test split"
   ]
  },
  {
   "cell_type": "code",
   "execution_count": null,
   "id": "31a0df23",
   "metadata": {},
   "outputs": [],
   "source": []
  }
 ],
 "metadata": {
  "kernelspec": {
   "display_name": "Python 3",
   "language": "python",
   "name": "python3"
  },
  "language_info": {
   "codemirror_mode": {
    "name": "ipython",
    "version": 3
   },
   "file_extension": ".py",
   "mimetype": "text/x-python",
   "name": "python",
   "nbconvert_exporter": "python",
   "pygments_lexer": "ipython3",
   "version": "3.8.3"
  }
 },
 "nbformat": 4,
 "nbformat_minor": 5
}
